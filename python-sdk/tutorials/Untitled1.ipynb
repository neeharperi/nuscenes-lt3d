{
 "cells": [
  {
   "cell_type": "code",
   "execution_count": 1,
   "id": "a143ec83-5b3f-40d9-bdb3-b1df4fa1b6cb",
   "metadata": {},
   "outputs": [],
   "source": [
    "import os\n",
    "import pickle\n",
    "import numpy as np\n",
    "import json\n"
   ]
  },
  {
   "cell_type": "code",
   "execution_count": 2,
   "id": "42523117-15c7-417c-8ab0-66c438533d0f",
   "metadata": {},
   "outputs": [],
   "source": [
    "with open('/home/anishmad/msr_thesis/glip/DATASET/nuimages/modified_annotations/nuimages_v1.0-val.json','r') as f:\n",
    "    dd = json.load(f)"
   ]
  },
  {
   "cell_type": "code",
   "execution_count": 3,
   "id": "7a50be55-504d-4753-85cd-15d9315b722c",
   "metadata": {},
   "outputs": [
    {
     "data": {
      "text/plain": [
       "dict_keys(['images', 'annotations', 'categories'])"
      ]
     },
     "execution_count": 3,
     "metadata": {},
     "output_type": "execute_result"
    }
   ],
   "source": [
    "dd.keys()"
   ]
  },
  {
   "cell_type": "code",
   "execution_count": 4,
   "id": "d4e931b9-ca3c-4914-9171-dc9c5cc39bd2",
   "metadata": {},
   "outputs": [
    {
     "data": {
      "text/plain": [
       "[{'id': 1, 'name': 'car'},\n",
       " {'id': 2, 'name': 'truck'},\n",
       " {'id': 3, 'name': 'construction_vehicle'},\n",
       " {'id': 4, 'name': 'bus'},\n",
       " {'id': 5, 'name': 'trailer'},\n",
       " {'id': 6, 'name': 'emergency'},\n",
       " {'id': 7, 'name': 'motorcycle'},\n",
       " {'id': 8, 'name': 'bicycle'},\n",
       " {'id': 9, 'name': 'adult'},\n",
       " {'id': 10, 'name': 'child'},\n",
       " {'id': 11, 'name': 'police_officer'},\n",
       " {'id': 12, 'name': 'construction_worker'},\n",
       " {'id': 13, 'name': 'personal_mobility'},\n",
       " {'id': 14, 'name': 'wheelchair'},\n",
       " {'id': 15, 'name': 'stroller'},\n",
       " {'id': 16, 'name': 'pushable_pullable'},\n",
       " {'id': 17, 'name': 'barrier'},\n",
       " {'id': 18, 'name': 'traffic_cone'},\n",
       " {'id': 19, 'name': 'debris'}]"
      ]
     },
     "execution_count": 4,
     "metadata": {},
     "output_type": "execute_result"
    }
   ],
   "source": [
    "dd['categories']"
   ]
  },
  {
   "cell_type": "code",
   "execution_count": 9,
   "id": "bf4bddcf-3634-4dc5-8696-40f827b5eca5",
   "metadata": {},
   "outputs": [
    {
     "data": {
      "text/plain": [
       "{'image_id': 0,\n",
       " 'category_id': 1,\n",
       " 'bbox': [759, 444, 33, 27],\n",
       " 'area': 891,\n",
       " 'iscrowd': 0,\n",
       " 'id': 4}"
      ]
     },
     "execution_count": 9,
     "metadata": {},
     "output_type": "execute_result"
    }
   ],
   "source": [
    "dd['annotations'][4]"
   ]
  },
  {
   "cell_type": "code",
   "execution_count": 7,
   "id": "21a72e9d-91c0-4b96-ab22-e800d6f1da4c",
   "metadata": {},
   "outputs": [
    {
     "data": {
      "text/plain": [
       "{'id': 0,\n",
       " 'token': '0008f55832e94c089ec2feba68bd4250',\n",
       " 'file_name': 'samples/CAM_FRONT/n003-2018-01-05-16-53-19+0800__CAM_FRONT__1515142478908480.jpg',\n",
       " 'width': 1600,\n",
       " 'height': 900}"
      ]
     },
     "execution_count": 7,
     "metadata": {},
     "output_type": "execute_result"
    }
   ],
   "source": [
    "dd['images'][0]"
   ]
  },
  {
   "cell_type": "code",
   "execution_count": 8,
   "id": "b31f820a-febb-4951-88c6-58e75ef24bae",
   "metadata": {},
   "outputs": [
    {
     "data": {
      "text/plain": [
       "{'id': 1,\n",
       " 'token': '000cb30fbc8d422d924367b23c2b0be3',\n",
       " 'file_name': 'samples/CAM_FRONT_LEFT/n013-2018-08-06-14-15-50+0800__CAM_FRONT_LEFT__1533537144654825.jpg',\n",
       " 'width': 1600,\n",
       " 'height': 900}"
      ]
     },
     "execution_count": 8,
     "metadata": {},
     "output_type": "execute_result"
    }
   ],
   "source": [
    "dd['images'][1]"
   ]
  },
  {
   "cell_type": "code",
   "execution_count": 10,
   "id": "74028677-b017-4557-b1b6-1777e07b227a",
   "metadata": {},
   "outputs": [],
   "source": [
    "stroller_ids = []\n",
    "for anno in dd['annotations']:\n",
    "    if anno['category_id']==15:\n",
    "        stroller_ids.append(anno['image_id'])"
   ]
  },
  {
   "cell_type": "code",
   "execution_count": 12,
   "id": "eaee9698-6fdb-430e-9a5b-a4a74791da78",
   "metadata": {},
   "outputs": [],
   "source": [
    "wc_ids = []\n",
    "for anno in dd['annotations']:\n",
    "    if anno['category_id']==14:\n",
    "        wc_ids.append(anno['image_id'])"
   ]
  },
  {
   "cell_type": "code",
   "execution_count": 13,
   "id": "7eb8f456-43c7-4f0c-ac6b-e22f14e86ec2",
   "metadata": {},
   "outputs": [
    {
     "data": {
      "text/plain": [
       "[7629, 12190]"
      ]
     },
     "execution_count": 13,
     "metadata": {},
     "output_type": "execute_result"
    }
   ],
   "source": [
    "wc_ids"
   ]
  },
  {
   "cell_type": "code",
   "execution_count": 14,
   "id": "5acac549-a97b-492a-a402-68370d55989f",
   "metadata": {},
   "outputs": [
    {
     "data": {
      "text/plain": [
       "{'id': 7629,\n",
       " 'token': '75d56596e6854aeebafe80068a4e6fd4',\n",
       " 'file_name': 'samples/CAM_FRONT_RIGHT/n009-2018-07-12-16-12-53-0400__CAM_FRONT_RIGHT__1531426883420283.jpg',\n",
       " 'width': 1600,\n",
       " 'height': 900}"
      ]
     },
     "execution_count": 14,
     "metadata": {},
     "output_type": "execute_result"
    }
   ],
   "source": [
    "dd['images'][7629]"
   ]
  },
  {
   "cell_type": "code",
   "execution_count": 17,
   "id": "3603a337-cf85-413a-bc85-5da332b33990",
   "metadata": {},
   "outputs": [
    {
     "data": {
      "text/plain": [
       "{'id': 1500,\n",
       " 'token': '172ec0dbf09d4fca8c4ca5d9c20e9729',\n",
       " 'file_name': 'samples/CAM_BACK/n008-2018-05-14-14-13-44-0400__CAM_BACK__1526322163537570.jpg',\n",
       " 'width': 1600,\n",
       " 'height': 900}"
      ]
     },
     "execution_count": 17,
     "metadata": {},
     "output_type": "execute_result"
    }
   ],
   "source": [
    "dd['images'][stroller_ids[1]]"
   ]
  },
  {
   "cell_type": "code",
   "execution_count": null,
   "id": "2b87aec5-17c4-4349-9608-30e52e1c1eb7",
   "metadata": {},
   "outputs": [],
   "source": []
  }
 ],
 "metadata": {
  "kernelspec": {
   "display_name": "Python 3",
   "language": "python",
   "name": "python3"
  },
  "language_info": {
   "codemirror_mode": {
    "name": "ipython",
    "version": 3
   },
   "file_extension": ".py",
   "mimetype": "text/x-python",
   "name": "python",
   "nbconvert_exporter": "python",
   "pygments_lexer": "ipython3",
   "version": "3.8.13"
  }
 },
 "nbformat": 4,
 "nbformat_minor": 5
}
