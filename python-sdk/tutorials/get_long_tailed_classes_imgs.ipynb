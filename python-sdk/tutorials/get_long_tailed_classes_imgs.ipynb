{
 "cells": [
  {
   "cell_type": "code",
   "execution_count": 1,
   "id": "a143ec83-5b3f-40d9-bdb3-b1df4fa1b6cb",
   "metadata": {},
   "outputs": [],
   "source": [
    "import os\n",
    "import pickle\n",
    "import numpy as np\n",
    "import json\n"
   ]
  },
  {
   "cell_type": "code",
   "execution_count": 2,
   "id": "42523117-15c7-417c-8ab0-66c438533d0f",
   "metadata": {},
   "outputs": [],
   "source": [
    "with open('/home/anishmad/msr_thesis/glip/DATASET/nuimages/modified_annotations/nuimages_v1.0-val.json','r') as f:\n",
    "    dd = json.load(f)"
   ]
  },
  {
   "cell_type": "code",
   "execution_count": 3,
   "id": "7a50be55-504d-4753-85cd-15d9315b722c",
   "metadata": {},
   "outputs": [
    {
     "data": {
      "text/plain": [
       "dict_keys(['images', 'annotations', 'categories'])"
      ]
     },
     "execution_count": 3,
     "metadata": {},
     "output_type": "execute_result"
    }
   ],
   "source": [
    "dd.keys()"
   ]
  },
  {
   "cell_type": "code",
   "execution_count": 4,
   "id": "d4e931b9-ca3c-4914-9171-dc9c5cc39bd2",
   "metadata": {},
   "outputs": [
    {
     "data": {
      "text/plain": [
       "[{'id': 1, 'name': 'car'},\n",
       " {'id': 2, 'name': 'truck'},\n",
       " {'id': 3, 'name': 'construction_vehicle'},\n",
       " {'id': 4, 'name': 'bus'},\n",
       " {'id': 5, 'name': 'trailer'},\n",
       " {'id': 6, 'name': 'emergency'},\n",
       " {'id': 7, 'name': 'motorcycle'},\n",
       " {'id': 8, 'name': 'bicycle'},\n",
       " {'id': 9, 'name': 'adult'},\n",
       " {'id': 10, 'name': 'child'},\n",
       " {'id': 11, 'name': 'police_officer'},\n",
       " {'id': 12, 'name': 'construction_worker'},\n",
       " {'id': 13, 'name': 'personal_mobility'},\n",
       " {'id': 14, 'name': 'wheelchair'},\n",
       " {'id': 15, 'name': 'stroller'},\n",
       " {'id': 16, 'name': 'pushable_pullable'},\n",
       " {'id': 17, 'name': 'barrier'},\n",
       " {'id': 18, 'name': 'traffic_cone'},\n",
       " {'id': 19, 'name': 'debris'}]"
      ]
     },
     "execution_count": 4,
     "metadata": {},
     "output_type": "execute_result"
    }
   ],
   "source": [
    "dd['categories']"
   ]
  },
  {
   "cell_type": "code",
   "execution_count": 5,
   "id": "bf4bddcf-3634-4dc5-8696-40f827b5eca5",
   "metadata": {},
   "outputs": [
    {
     "data": {
      "text/plain": [
       "{'image_id': 0,\n",
       " 'category_id': 1,\n",
       " 'bbox': [759, 444, 33, 27],\n",
       " 'area': 891,\n",
       " 'iscrowd': 0,\n",
       " 'id': 4}"
      ]
     },
     "execution_count": 5,
     "metadata": {},
     "output_type": "execute_result"
    }
   ],
   "source": [
    "dd['annotations'][4]"
   ]
  },
  {
   "cell_type": "code",
   "execution_count": 6,
   "id": "21a72e9d-91c0-4b96-ab22-e800d6f1da4c",
   "metadata": {},
   "outputs": [
    {
     "data": {
      "text/plain": [
       "{'id': 0,\n",
       " 'token': '0008f55832e94c089ec2feba68bd4250',\n",
       " 'file_name': 'samples/CAM_FRONT/n003-2018-01-05-16-53-19+0800__CAM_FRONT__1515142478908480.jpg',\n",
       " 'width': 1600,\n",
       " 'height': 900}"
      ]
     },
     "execution_count": 6,
     "metadata": {},
     "output_type": "execute_result"
    }
   ],
   "source": [
    "dd['images'][0]"
   ]
  },
  {
   "cell_type": "code",
   "execution_count": 7,
   "id": "b31f820a-febb-4951-88c6-58e75ef24bae",
   "metadata": {},
   "outputs": [
    {
     "data": {
      "text/plain": [
       "{'id': 1,\n",
       " 'token': '000cb30fbc8d422d924367b23c2b0be3',\n",
       " 'file_name': 'samples/CAM_FRONT_LEFT/n013-2018-08-06-14-15-50+0800__CAM_FRONT_LEFT__1533537144654825.jpg',\n",
       " 'width': 1600,\n",
       " 'height': 900}"
      ]
     },
     "execution_count": 7,
     "metadata": {},
     "output_type": "execute_result"
    }
   ],
   "source": [
    "dd['images'][1]"
   ]
  },
  {
   "cell_type": "code",
   "execution_count": 8,
   "id": "e827f4b1-8b22-47cc-80f6-75e2a1d0a5e6",
   "metadata": {},
   "outputs": [],
   "source": [
    "def save_category_imgs(valfile_obj, img_ids, save_path):\n",
    "    os.makedirs(save_path, exist_ok=True)\n",
    "    for img_id in img_ids[:100]:\n",
    "        img_name = valfile_obj['images'][img_id]\n",
    "        src_path = '/home/anishmad/msr_thesis/glip/DATASET/nuimages/images/'+img_name['file_name']\n",
    "        dst_path = os.path.join(save_path, img_name['file_name'].split('/')[-1])\n",
    "        # print(src_path)\n",
    "        # print(dst_path)\n",
    "        try:\n",
    "            shutil.copy(src_path, dst_path)\n",
    "        except:\n",
    "            continue"
   ]
  },
  {
   "cell_type": "code",
   "execution_count": 9,
   "id": "74028677-b017-4557-b1b6-1777e07b227a",
   "metadata": {},
   "outputs": [],
   "source": [
    "stroller_ids = []\n",
    "for anno in dd['annotations']:\n",
    "    if anno['category_id']==15:\n",
    "        stroller_ids.append(anno['image_id'])"
   ]
  },
  {
   "cell_type": "code",
   "execution_count": 10,
   "id": "01f5b91b-e07f-4f66-ad52-b6c97a907a43",
   "metadata": {},
   "outputs": [],
   "source": [
    "pp_ids = []\n",
    "for anno in dd['annotations']:\n",
    "    if anno['category_id']==16:\n",
    "        pp_ids.append(anno['image_id'])"
   ]
  },
  {
   "cell_type": "code",
   "execution_count": 11,
   "id": "eaee9698-6fdb-430e-9a5b-a4a74791da78",
   "metadata": {},
   "outputs": [],
   "source": [
    "wc_ids = []\n",
    "for anno in dd['annotations']:\n",
    "    if anno['category_id']==14:\n",
    "        wc_ids.append(anno['image_id'])"
   ]
  },
  {
   "cell_type": "code",
   "execution_count": 12,
   "id": "ec8d25d8-2ef9-4d91-b7a4-6b96833aa5fc",
   "metadata": {},
   "outputs": [],
   "source": [
    "pers_mobility_ids = []\n",
    "for anno in dd['annotations']:\n",
    "    if anno['category_id']==13:\n",
    "        pers_mobility_ids.append(anno['image_id'])"
   ]
  },
  {
   "cell_type": "code",
   "execution_count": 13,
   "id": "d3e3b8f2-996e-42de-831f-1880c140ebb6",
   "metadata": {},
   "outputs": [],
   "source": [
    "debris_ids = []\n",
    "for anno in dd['annotations']:\n",
    "    if anno['category_id']==19:\n",
    "        debris_ids.append(anno['image_id'])"
   ]
  },
  {
   "cell_type": "code",
   "execution_count": 14,
   "id": "d7325d88-39c6-48f9-a1d3-dd9c97be3b0c",
   "metadata": {},
   "outputs": [],
   "source": [
    "child_ids = []\n",
    "for anno in dd['annotations']:\n",
    "    if anno['category_id']==10:\n",
    "        child_ids.append(anno['image_id'])"
   ]
  },
  {
   "cell_type": "code",
   "execution_count": 15,
   "id": "3c204f98-0241-4dec-a654-1294e51640c3",
   "metadata": {},
   "outputs": [],
   "source": [
    "barrier_ids = []\n",
    "for anno in dd['annotations']:\n",
    "    if anno['category_id']==17:\n",
    "        barrier_ids.append(anno['image_id'])"
   ]
  },
  {
   "cell_type": "code",
   "execution_count": 16,
   "id": "7c09e57c-bb37-4c9a-a8ab-c816dcd766a5",
   "metadata": {},
   "outputs": [],
   "source": [
    "import shutil"
   ]
  },
  {
   "cell_type": "code",
   "execution_count": 17,
   "id": "29b87705-1619-49f3-b7d5-e1525c8aa9ea",
   "metadata": {},
   "outputs": [],
   "source": [
    "def save_categorywise_data(cat_name, cat_id):\n",
    "    ids = []\n",
    "    for anno in dd['annotations']:\n",
    "        if anno['category_id']==cat_id:\n",
    "            ids.append(anno['image_id'])\n",
    "    save_category_imgs(dd, ids, f'./{cat_name}')"
   ]
  },
  {
   "cell_type": "code",
   "execution_count": 18,
   "id": "6abf93f0-1edb-42da-bb52-44585d6dce2a",
   "metadata": {},
   "outputs": [],
   "source": [
    "save_categorywise_data('bus', 4)\n",
    "save_categorywise_data('construction_vehicle', 3)\n",
    "save_categorywise_data('emergency', 6)\n",
    "\n"
   ]
  },
  {
   "cell_type": "code",
   "execution_count": 19,
   "id": "6823b960-50d9-4ca8-9127-2f939f8916ec",
   "metadata": {},
   "outputs": [],
   "source": [
    "save_categorywise_data('truck', 2)\n",
    "save_categorywise_data('trailer', 5)"
   ]
  },
  {
   "cell_type": "code",
   "execution_count": 15,
   "id": "ae1bd6e4-43ba-4a21-9639-037ec3b6192b",
   "metadata": {},
   "outputs": [],
   "source": [
    "# pp_save_path = './pushable_pullable/'\n",
    "# for pp_id in pp_ids[:100]:\n",
    "#     img_name = dd['images'][pp_id]\n",
    "#     src_path = '/home/anishmad/msr_thesis/glip/DATASET/nuimages/images/'+img_name['file_name']\n",
    "#     dst_path = os.path.join(pp_save_path, img_name['file_name'].split('/')[-1])\n",
    "#     try:\n",
    "#         shutil.copy(src_path, dst_path)\n",
    "#     except:\n",
    "#         continue"
   ]
  },
  {
   "cell_type": "code",
   "execution_count": 16,
   "id": "0ece3cf4-a4b2-468b-ba50-6b0b661e36b1",
   "metadata": {},
   "outputs": [
    {
     "name": "stdout",
     "output_type": "stream",
     "text": [
      "/home/anishmad/msr_thesis/glip/DATASET/nuimages/images/samples/CAM_FRONT_RIGHT/n009-2018-07-12-16-12-53-0400__CAM_FRONT_RIGHT__1531426883420283.jpg\n",
      "./wc/n009-2018-07-12-16-12-53-0400__CAM_FRONT_RIGHT__1531426883420283.jpg\n",
      "/home/anishmad/msr_thesis/glip/DATASET/nuimages/images/samples/CAM_BACK_RIGHT/n013-2018-07-31-10-43-27+0800__CAM_BACK_RIGHT__1533005497128054.jpg\n",
      "./wc/n013-2018-07-31-10-43-27+0800__CAM_BACK_RIGHT__1533005497128054.jpg\n"
     ]
    }
   ],
   "source": [
    "save_category_imgs(dd, wc_ids, './wc')"
   ]
  },
  {
   "cell_type": "code",
   "execution_count": null,
   "id": "0c6161da-3b7d-4356-8977-0ac61d325a52",
   "metadata": {},
   "outputs": [],
   "source": [
    "save_category_imgs(dd, pers_mobility_ids, './pers_mobility')"
   ]
  },
  {
   "cell_type": "code",
   "execution_count": null,
   "id": "df1525f4-18d8-4702-8a8a-d0c056e1a372",
   "metadata": {},
   "outputs": [],
   "source": [
    "save_category_imgs(dd, debris_ids, './debris')"
   ]
  },
  {
   "cell_type": "code",
   "execution_count": 22,
   "id": "6b89b9d2-56e1-414c-a26b-1d2184ee153c",
   "metadata": {},
   "outputs": [],
   "source": [
    "save_category_imgs(dd, child_ids, './child')"
   ]
  },
  {
   "cell_type": "code",
   "execution_count": 25,
   "id": "73e97701-d26b-45d4-80e1-a12e3cec2c89",
   "metadata": {},
   "outputs": [],
   "source": [
    "save_category_imgs(dd, child_ids, './barrier')"
   ]
  },
  {
   "cell_type": "markdown",
   "id": "f478cb04-6620-4417-a821-d5c3675cba85",
   "metadata": {},
   "source": [
    "#### Extra categories"
   ]
  },
  {
   "cell_type": "code",
   "execution_count": null,
   "id": "1594bef8-670d-4821-8d47-05c09147e0d8",
   "metadata": {},
   "outputs": [],
   "source": [
    "car_syn = 'sedan . hatch-back . wagon . van . mini-van . SUV . jeep . '\n",
    "push_pull_syn = 'dolley . wheel barrow . garbage bin . shopping cart . '\n",
    "debris_syn = '"
   ]
  },
  {
   "cell_type": "code",
   "execution_count": 36,
   "id": "bde735f8-78c7-4e0b-9dbb-2b9ca1070370",
   "metadata": {},
   "outputs": [],
   "source": [
    "all_clss = [\n",
    "  {\"id\": 1, \"name\": \"car\", \"supercategory\": \"vehicle\"}, {\"id\": 2, \"name\": \"truck\", \"supercategory\": \"vehicle\"},\n",
    "  {\"id\": 3, \"name\": \"construction_vehicle\", \"supercategory\": \"vehicle\"}, {\"id\": 4, \"name\": \"bus\", \"supercategory\": \"vehicle\"},\n",
    "  {\"id\": 5, \"name\": \"trailer\", \"supercategory\": \"vehicle\"}, {\"id\": 6, \"name\": \"emergency\", \"supercategory\": \"vehicle\"},\n",
    "  {\"id\": 7, \"name\": \"motorcycle\", \"supercategory\": \"vehicle\"}, {\"id\": 8, \"name\": \"bicycle\", \"supercategory\": \"vehicle\"}, \n",
    "  {\"id\": 9, \"name\": \"adult\", \"supercategory\": \"pedestrian\"}, {\"id\": 10, \"name\": \"child\", \"supercategory\":  \"pedestrian\"},\n",
    "  {\"id\": 11, \"name\": \"police_officer\", \"supercategory\":  \"pedestrian\"}, {\"id\": 12, \"name\": \"construction_worker\", \"supercategory\":  \"pedestrian\"},\n",
    "  {\"id\": 13, \"name\": \"personal_mobility\", \"supercategory\": \"pedestrian\"}, {\"id\": 14, \"name\": \"wheelchair\", \"supercategory\":  \"pedestrian\"},\n",
    "  {\"id\": 15, \"name\": \"stroller\", \"supercategory\": \"pedestrian\"}, {\"id\": 16, \"name\": \"pushable_pullable\", \"supercategory\":  \"movable_object\"},\n",
    "  {\"id\": 17, \"name\": \"barrier\", \"supercategory\": \"movable_object\"}, {\"id\": 18, \"name\": \"traffic_cone\", \"supercategory\": \"movable_object\"},\n",
    "  {\"id\": 19, \"name\": \"debris\", \"supercategory\": \"movable_object\"}, {\"id\": 20, \"name\": \"sedan\", \"parent\": 1}, {\"id\": 21, \"name\": \"hatch_back\", \"parent\": 1}, \n",
    "  {\"id\": 22, \"name\": \"van\", \"parent\": 1}, {\"id\": 23, \"name\": \"mini-van\", \"parent\": 1}, {\"id\": 24, \"name\": \"SUV\", \"parent\": 1}, \n",
    "  {\"id\": 25, \"name\": \"jeep\", \"parent\": 1}, {\"id\": 26, \"name\": \"scooter\", \"parent\": 13}, {\"id\": 27, \"name\": \"segway\", \"parent\": 13},\n",
    "  {\"id\": 28, \"name\": \"skateboard\", \"parent\": 13}, {\"id\": 29, \"name\": \"Fence\", \"parent\": 17}, {\"id\": 30, \"name\": \"Bollard\", \"parent\": 17},\n",
    "  {\"id\": 31, \"name\": \"K Rail\", \"parent\": 17}, {\"id\": 32, \"name\": \"Guard Rail\", \"parent\": 17}, {\"id\": 33, \"name\": \"cart\", \"parent\": 16}, \n",
    "  {\"id\": 34, \"name\": \"garbage bin\", \"parent\": 16}, {\"id\": 35, \"name\": \"wheel barrow\", \"parent\": 16}, {\"id\": 36, \"name\": \"road sign\", \"parent\": 19}, \n",
    "  {\"id\": 37, \"name\": \"trash bag\", \"parent\": 19}\n",
    "  ]"
   ]
  },
  {
   "cell_type": "code",
   "execution_count": 37,
   "id": "b45a11b5-88a1-4f6d-98ce-3b33facbc03d",
   "metadata": {},
   "outputs": [],
   "source": [
    "ll=\"\"\n",
    "for x in all_clss:\n",
    "    ll+=', '+x[\"name\"]"
   ]
  },
  {
   "cell_type": "code",
   "execution_count": 38,
   "id": "f388e612-47a6-4225-b6cb-626ffc7fc035",
   "metadata": {},
   "outputs": [
    {
     "data": {
      "text/plain": [
       "', car, truck, construction_vehicle, bus, trailer, emergency, motorcycle, bicycle, adult, child, police_officer, construction_worker, personal_mobility, wheelchair, stroller, pushable_pullable, barrier, traffic_cone, debris, sedan, hatch_back, van, mini-van, SUV, jeep, scooter, segway, skateboard, Fence, Bollard, K Rail, Guard Rail, cart, garbage bin, wheel barrow, road sign, trash bag'"
      ]
     },
     "execution_count": 38,
     "metadata": {},
     "output_type": "execute_result"
    }
   ],
   "source": [
    "ll\n"
   ]
  },
  {
   "cell_type": "code",
   "execution_count": null,
   "id": "9226e05f-e707-4db1-93c9-06c954e0ab63",
   "metadata": {},
   "outputs": [],
   "source": []
  }
 ],
 "metadata": {
  "kernelspec": {
   "display_name": "Python 3",
   "language": "python",
   "name": "python3"
  },
  "language_info": {
   "codemirror_mode": {
    "name": "ipython",
    "version": 3
   },
   "file_extension": ".py",
   "mimetype": "text/x-python",
   "name": "python",
   "nbconvert_exporter": "python",
   "pygments_lexer": "ipython3",
   "version": "3.8.13"
  }
 },
 "nbformat": 4,
 "nbformat_minor": 5
}
