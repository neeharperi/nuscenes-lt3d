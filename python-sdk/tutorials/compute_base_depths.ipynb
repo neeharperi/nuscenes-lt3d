{
 "cells": [
  {
   "cell_type": "markdown",
   "id": "f45f5996-3a9c-4413-a0a1-c4f6cdecec8a",
   "metadata": {},
   "source": [
    "### Compute base depth values for NuScenes (used in PGD config)"
   ]
  },
  {
   "cell_type": "code",
   "execution_count": 9,
   "id": "0a9abc8b-3c6f-4a99-b27f-ef24af546956",
   "metadata": {},
   "outputs": [],
   "source": [
    "import json\n",
    "import os\n",
    "import numpy as np \n",
    "import copy\n",
    "import tempfile\n",
    "import warnings\n",
    "from os import path as osp\n",
    "\n",
    "import mmcv\n",
    "import numpy as np\n",
    "import pyquaternion\n",
    "import torch\n",
    "from nuscenes.utils.data_classes import Box as NuScenesBox\n",
    "import mmcv\n",
    "# from mmdet3d.core import bbox3d2result, box3d_multiclass_nms, xywhr2xyxyr\n",
    "# from mmdet.datasets import CocoDataset"
   ]
  },
  {
   "cell_type": "code",
   "execution_count": 46,
   "id": "7e6cf87c-879d-461e-b357-def339a1b78d",
   "metadata": {},
   "outputs": [],
   "source": [
    "val_anno_file = '/home/anishmad/msr_thesis/mmdet3d-lt3d/data/nuscenes/nuscenes_infos_val_mono3d.coco.json'\n",
    "train_anno_file = '/home/anishmad/msr_thesis/mmdet3d-lt3d/data/nuscenes/nuscenes_infos_train_mono3d.coco.json'"
   ]
  },
  {
   "cell_type": "code",
   "execution_count": 28,
   "id": "e7af1fae-d988-4c36-92d5-1f1dcc91fe97",
   "metadata": {},
   "outputs": [],
   "source": [
    "class_names = [\n",
    "'car', 'truck', 'trailer', 'bus', 'construction_vehicle', 'bicycle', 'motorcycle', 'emergency_vehicle',\n",
    "'adult', 'child', 'police_officer', 'construction_worker', 'stroller', 'personal_mobility', \n",
    "'pushable_pullable', 'debris', 'traffic_cone', 'barrier'\n",
    "]"
   ]
  },
  {
   "cell_type": "code",
   "execution_count": 51,
   "id": "b9ea42e4-d392-4358-900b-292ece7d5a5a",
   "metadata": {},
   "outputs": [],
   "source": [
    "data_train = json.load(open(train_anno_file,'r'))\n",
    "data_val = json.load(open(val_anno_file,'r'))"
   ]
  },
  {
   "cell_type": "code",
   "execution_count": 55,
   "id": "83717bdc-124b-457a-9fda-2fcf93fc6aa2",
   "metadata": {},
   "outputs": [
    {
     "name": "stdout",
     "output_type": "stream",
     "text": [
      "Train\n",
      "\n",
      "[(37.152, 24.632), (31.99, 21.124), (20.606, 13.679), (23.893, 15.209), (20.571, 14.341), (34.157, 20.107), (27.457, 15.528), (22.736, 15.011), (22.193, 16.328), (24.278, 16.049), (22.348, 13.704), (40.911, 26.341), (39.687, 23.974), (22.298, 10.944), (24.985, 12.478), (29.132, 16.155), (18.995, 12.011), (29.624, 21.013)]\n",
      "Val\n",
      "\n",
      "[(37.452, 24.777), (32.182, 21.19), (20.319, 13.441), (23.526, 14.964), (20.533, 14.41), (35.169, 20.511), (27.441, 15.706), (23.116, 15.582), (23.466, 16.964), (24.47, 15.695), (22.391, 13.626), (40.499, 26.208), (40.022, 23.644), (22.113, 10.887), (25.227, 12.822), (27.922, 16.527), (19.102, 11.823), (30.01, 21.656)]\n"
     ]
    }
   ],
   "source": [
    "classwise_depths = defaultdict(list)\n",
    "\n",
    "def get_mean_depths(data):\n",
    "    mean_std_depths = []\n",
    "    for idx,anno in enumerate(data['annotations']):\n",
    "        classwise_depths[anno['category_name']].append(anno['center2d'][2])\n",
    "        # l.append(anno['category_name'])\n",
    "\n",
    "    for cat, cat_depths in classwise_depths.items():\n",
    "        # print(cat, np.mean(cat_depths), np.std(cat_depths))\n",
    "        mean, std = np.round(np.mean(cat_depths),3), np.round(np.std(cat_depths),3)\n",
    "        mean_std_depths.append((mean,std))\n",
    "    print(mean_std_depths)\n",
    "    return mean_std_depths\n",
    "\n",
    "print('Train\\n')\n",
    "ms_depth_train = get_mean_depths(data_train)\n",
    "print('Val\\n')\n",
    "ms_depth_val = get_mean_depths(data_val)"
   ]
  },
  {
   "cell_type": "code",
   "execution_count": null,
   "id": "a293bdf1-a1a9-4130-8db6-6215c42cd504",
   "metadata": {},
   "outputs": [],
   "source": []
  },
  {
   "cell_type": "markdown",
   "id": "19ec1176-2baf-4152-90ae-c7c014f3ab6f",
   "metadata": {},
   "source": [
    "### Compute Base Dims for NuScenes dataset (used in PGD config)"
   ]
  },
  {
   "cell_type": "code",
   "execution_count": 58,
   "id": "c85be37f-9dbe-4ba7-8a8e-1efb935f900c",
   "metadata": {},
   "outputs": [
    {
     "name": "stdout",
     "output_type": "stream",
     "text": [
      "======\n",
      "Loading NuScenes tables for version v1.0-trainval...\n",
      "23 category,\n",
      "8 attribute,\n",
      "4 visibility,\n",
      "64386 instance,\n",
      "12 sensor,\n",
      "10200 calibrated_sensor,\n",
      "2631083 ego_pose,\n",
      "68 log,\n",
      "850 scene,\n",
      "34149 sample,\n",
      "2631083 sample_data,\n",
      "1166187 sample_annotation,\n",
      "4 map,\n",
      "Done loading in 45.786 seconds.\n",
      "======\n",
      "Reverse indexing ...\n",
      "Done reverse indexing in 10.5 seconds.\n",
      "======\n"
     ]
    }
   ],
   "source": [
    "%matplotlib inline\n",
    "from nuscenes.nuscenes import NuScenes\n",
    "\n",
    "nusc = NuScenes(version=\"v1.0-trainval\", dataroot='/ssd0/nperi/nuScenes/', verbose=True)"
   ]
  },
  {
   "cell_type": "code",
   "execution_count": 59,
   "id": "701071f0-d3c2-4f97-93dd-5ed1a6382512",
   "metadata": {},
   "outputs": [
    {
     "name": "stdout",
     "output_type": "stream",
     "text": [
      "Category stats for split v1.0-trainval:\n",
      "animal                      n=  787, width= 0.37±0.13, len= 0.86±0.36, height= 0.60±0.20, lw_aspect= 2.35±0.69\n",
      "human.pedestrian.adult      n=208240, width= 0.67±0.13, len= 0.73±0.19, height= 1.77±0.18, lw_aspect= 1.11±0.26\n",
      "human.pedestrian.child      n= 2066, width= 0.51±0.14, len= 0.53±0.15, height= 1.38±0.25, lw_aspect= 1.05±0.23\n",
      "human.pedestrian.constructi n= 9161, width= 0.72±0.20, len= 0.71±0.20, height= 1.74±0.30, lw_aspect= 1.02±0.29\n",
      "human.pedestrian.personal_m n=  395, width= 0.62±0.12, len= 1.18±0.31, height= 1.71±0.27, lw_aspect= 1.98±0.64\n",
      "human.pedestrian.police_off n=  727, width= 0.73±0.14, len= 0.69±0.13, height= 1.83±0.14, lw_aspect= 0.97±0.18\n",
      "human.pedestrian.stroller   n= 1072, width= 0.63±0.13, len= 0.95±0.27, height= 1.17±0.15, lw_aspect= 1.58±0.68\n",
      "human.pedestrian.wheelchair n=  503, width= 0.77±0.10, len= 1.09±0.23, height= 1.37±0.09, lw_aspect= 1.42±0.23\n",
      "movable_object.barrier      n=152087, width= 2.53±0.64, len= 0.50±0.17, height= 0.98±0.15, lw_aspect= 0.21±0.14\n",
      "movable_object.debris       n= 3016, width= 1.01±0.67, len= 1.08±1.17, height= 1.26±0.46, lw_aspect= 1.09±0.72\n",
      "movable_object.pushable_pul n=24605, width= 0.60±0.27, len= 0.67±0.44, height= 1.06±0.27, lw_aspect= 1.11±0.30\n",
      "movable_object.trafficcone  n=97959, width= 0.41±0.13, len= 0.41±0.14, height= 1.07±0.27, lw_aspect= 1.03±0.24\n",
      "static_object.bicycle_rack  n= 2713, width= 6.79±5.55, len= 4.69±4.81, height= 1.32±0.26, lw_aspect= 2.03±2.74\n",
      "vehicle.bicycle             n=11859, width= 0.60±0.16, len= 1.70±0.26, height= 1.28±0.34, lw_aspect= 3.03±0.83\n",
      "vehicle.bus.bendy           n= 1820, width= 2.96±0.23, len= 9.83±1.70, height= 3.45±0.21, lw_aspect= 3.33±0.59\n",
      "vehicle.bus.rigid           n=14501, width= 2.93±0.33, len=11.23±2.07, height= 3.47±0.52, lw_aspect= 3.84±0.63\n",
      "vehicle.car                 n=493322, width= 1.95±0.19, len= 4.62±0.46, height= 1.73±0.24, lw_aspect= 2.37±0.20\n",
      "vehicle.construction        n=14671, width= 2.85±1.06, len= 6.37±3.13, height= 3.19±1.02, lw_aspect= 2.27±0.89\n",
      "vehicle.emergency.ambulance n=   49, width= 2.18±0.10, len= 5.40±0.24, height= 2.45±0.04, lw_aspect= 2.49±0.21\n",
      "vehicle.emergency.police    n=  638, width= 2.03±0.14, len= 5.04±0.33, height= 1.85±0.19, lw_aspect= 2.49±0.15\n",
      "vehicle.motorcycle          n=12617, width= 0.77±0.17, len= 2.11±0.32, height= 1.47±0.23, lw_aspect= 2.81±0.55\n",
      "vehicle.trailer             n=24860, width= 2.90±0.53, len=12.29±4.52, height= 3.87±0.75, lw_aspect= 4.17±1.39\n",
      "vehicle.truck               n=88519, width= 2.51±0.45, len= 6.93±2.17, height= 2.84±0.84, lw_aspect= 2.75±0.56\n"
     ]
    }
   ],
   "source": [
    "nusc.list_categories()"
   ]
  },
  {
   "cell_type": "markdown",
   "id": "1c84811a-4a53-4df3-aa88-f9fc3b98c114",
   "metadata": {},
   "source": [
    "#### Manually copied over values"
   ]
  },
  {
   "cell_type": "code",
   "execution_count": 62,
   "id": "0f5f5578-f0a0-4511-bd06-4415dcd8ce4d",
   "metadata": {},
   "outputs": [],
   "source": [
    "#### All classes listed as given in config https://github.com/neeharperi/mmdet3d-lt3d/blob/main/configs/_base_/datasets/nus-mono3d.py \n",
    "# class_names = [\n",
    "# 'car', 'truck', 'trailer', 'bus', 'construction_vehicle', 'bicycle', 'motorcycle', 'emergency_vehicle',\n",
    "# 'adult', 'child', 'police_officer', 'construction_worker', 'stroller', 'personal_mobility', \n",
    "# 'pushable_pullable', 'debris', 'traffic_cone', 'barrier'\n",
    "# ]\n",
    "\n",
    "## follow (len, height, width) convention.  There are slight differences in values probably due to using trainval set and not simply train set.\n",
    "## If slighlty different values are an issue, use method for base_depths to compute base_dims over the train set.\n",
    "\n",
    "base_dims = { 'car': (4.62, 1.73, 1.96), 'truck': (6.93, 2.83, 2.51), 'trailer': (12.56, 3.89, 2.94), 'bus': (11.22, 3.50, 2.95),\n",
    "            'construction_vehicle': (6.68, 3.21, 2.85), 'bicycle': (1.70, 1.28, 0.60), 'motorcycle': (2.11, 1.46, 0.78),\n",
    "             'emergency_vehicle': (5.04, 1.85, 2.03), 'adult': (0.73, 1.77, 0.67), 'child': (0.53, 1.38, 0.51), \n",
    "             'police_officer': (0.69, 1.83, 0.73), 'construction_worker': (0.71, 1.74, 0.72), 'stroller': (0.95, 1.17, 0.63), \n",
    "             'personal_mobility': (1.18, 1.71, 0.62), 'pushable_pullable': (0.67, 1.06, 0.60), 'debris': (1.08, 1.26, 1.01), \n",
    "             'traffic_cone': (0.41, 1.07, 0.41), 'barrier':(0.5, 0.98, 2.53)\n",
    "            }\n",
    "\n",
    "# classes not included\n",
    "## animal,  wheelchair, bicycle_rack, bendy_bus, (only taken emergency vehicle as police vehicle, not ambulance), "
   ]
  },
  {
   "cell_type": "code",
   "execution_count": 61,
   "id": "c869e917-9429-4771-8899-2402d5c19061",
   "metadata": {},
   "outputs": [
    {
     "data": {
      "text/plain": [
       "[(4.62, 1.73, 1.96),\n",
       " (6.93, 2.83, 2.51),\n",
       " (12.56, 3.89, 2.94),\n",
       " (11.22, 3.5, 2.95),\n",
       " (6.68, 3.21, 2.85),\n",
       " (1.7, 1.28, 0.6),\n",
       " (2.11, 1.46, 0.78),\n",
       " (5.04, 1.85, 2.03),\n",
       " (0.73, 1.77, 0.67),\n",
       " (0.53, 1.38, 0.51),\n",
       " (0.69, 1.83, 0.73),\n",
       " (0.71, 1.74, 0.72),\n",
       " (0.95, 1.17, 0.63),\n",
       " (1.18, 1.71, 0.62),\n",
       " (0.67, 1.06, 0.6),\n",
       " (1.08, 1.26, 1.01),\n",
       " (0.41, 1.07, 0.41),\n",
       " (0.5, 0.98, 2.53)]"
      ]
     },
     "execution_count": 61,
     "metadata": {},
     "output_type": "execute_result"
    }
   ],
   "source": [
    "list(base_dims.values())"
   ]
  },
  {
   "cell_type": "code",
   "execution_count": null,
   "id": "de39a2cb-85f7-47fd-8f7c-410b4307fbb4",
   "metadata": {},
   "outputs": [],
   "source": []
  }
 ],
 "metadata": {
  "kernelspec": {
   "display_name": "Python 3 (ipykernel)",
   "language": "python",
   "name": "python3"
  },
  "language_info": {
   "codemirror_mode": {
    "name": "ipython",
    "version": 3
   },
   "file_extension": ".py",
   "mimetype": "text/x-python",
   "name": "python",
   "nbconvert_exporter": "python",
   "pygments_lexer": "ipython3",
   "version": "3.8.13"
  }
 },
 "nbformat": 4,
 "nbformat_minor": 5
}
